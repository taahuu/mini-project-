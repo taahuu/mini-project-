{
  "nbformat": 4,
  "nbformat_minor": 0,
  "metadata": {
    "colab": {
      "provenance": [],
      "authorship_tag": "ABX9TyPbpdkc7+c4A9eThXkay1pa",
      "include_colab_link": true
    },
    "kernelspec": {
      "name": "python3",
      "display_name": "Python 3"
    },
    "language_info": {
      "name": "python"
    }
  },
  "cells": [
    {
      "cell_type": "markdown",
      "metadata": {
        "id": "view-in-github",
        "colab_type": "text"
      },
      "source": [
        "<a href=\"https://colab.research.google.com/github/taahuu/mini-project-/blob/main/miniproject.ipynb\" target=\"_parent\"><img src=\"https://colab.research.google.com/assets/colab-badge.svg\" alt=\"Open In Colab\"/></a>"
      ]
    },
    {
      "cell_type": "code",
      "source": [
        "import socket\n",
        "import struct\n",
        "\n",
        "class Firewall:\n",
        "    def __init__(self):\n",
        "        self.rules = []\n",
        "\n",
        "    def add_rule(self, action, rule_type, value):\n",
        "      # Add a rule to the firewall. Rules specify what to do (action) for a given condition.\n",
        "        self.rules.append((action, rule_type, value))\n",
        "\n",
        "    def packet_matches_rule(self, pkt):\n",
        "        for action, rule_type, value in self.rules:\n",
        "            if rule_type == \"protocol\":\n",
        "                if pkt.protocolname == value:\n",
        "                    return action\n",
        "            elif rule_type == \"ipaddress\":\n",
        "                if pkt.srcipaddress == value:\n",
        "                    return action\n",
        "            elif rule_type == \"portnum\":\n",
        "                if pkt.srcportnum == int(value):\n",
        "                    return action\n",
        "        return \"pass\"\n",
        "\n",
        "    def handle_packet(self, pckt):\n",
        "      # Extract packet information like source IP, source port, and protocol.\n",
        "        ip_header = pckt[0:20]\n",
        "        iph = struct.unpack('!BBHHHBBH4s4s', ip_header)\n",
        "\n",
        "        version_ihl = iph[0]\n",
        "        ihl = (version_ihl & 0xF) * 4\n",
        "        protocol = iph[6]\n",
        "        src_ip = socket.inet_ntoa(iph[8])\n",
        "        dst_ip = socket.inet_ntoa(iph[9])\n",
        "\n",
        "        if protocol == 6:\n",
        "            src_port = struct.unpack('!H', pckt[ihl:ihl + 2])[0]\n",
        "            return \"tcp\", src_ip, src_port\n",
        "        elif protocol == 17:\n",
        "            src_port = struct.unpack('!H', pckt[ihl:ihl + 2])[0]\n",
        "            return \"udp\", src_ip, src_port\n",
        "        elif protocol == 1:\n",
        "            return \"icmp\", src_ip, None\n",
        "        else:\n",
        "            return \"unknown\", src_ip, None\n",
        "\n",
        "def main():\n",
        "    global firewall\n",
        "\n",
        "    firewall = Firewall()\n",
        "\n",
        "    # Add your firewall rules here\n",
        "    firewall.add_rule(\"block\", \"protocol\", \"tcp\")\n",
        "    firewall.add_rule(\"block\", \"ipaddress\", \"192.168.1.100\")\n",
        "    firewall.add_rule(\"block\", \"portnum\", \"80\")\n",
        "\n",
        "    s = socket.socket(socket.AF_INET, socket.SOCK_RAW, socket.IPPROTO_TCP)\n",
        "\n",
        "    while True:\n",
        "        packet, addr = s.recvfrom(65565)\n",
        "        protocol, src_ip, src_port = firewall.handle_packet(packet)\n",
        "        action = firewall.packet_matches_rule(firewall)\n",
        "\n",
        "        if action == \"block\":\n",
        "            print(f\"Blocked: {protocol} from {src_ip}:{src_port}\")\n",
        "        else:\n",
        "            print(f\"Accepted: {protocol} from {src_ip}:{src_port}\")\n"
      ],
      "metadata": {
        "id": "NMBjcizqE_85"
      },
      "execution_count": 3,
      "outputs": []
    },
    {
      "cell_type": "code",
      "source": [
        "#Detect the Xss attack\n",
        "import re\n",
        "\n",
        "# Define a regular expression pattern to detect potential XSS attacks\n",
        "xss_pattern = re.compile(r'<\\s*script[^>]*>[^<]*<\\s*/\\s*script\\s*>', re.I)\n",
        "\n",
        "def detect_xss_attack(request):\n",
        "    # Check for the XSS pattern in the request URL, headers, and body\n",
        "    if (\n",
        "        re.search(xss_pattern, request.url) or\n",
        "        any(re.search(xss_pattern, header) for header in request.headers.values()) or\n",
        "        re.search(xss_pattern, request.body)\n",
        "    ):\n",
        "        return True\n",
        "    return False\n",
        "\n",
        "# Example usage:\n",
        "class HttpRequest:\n",
        "    def __init__(self, url, headers, body):\n",
        "        self.url = url\n",
        "        self.headers = headers\n",
        "        self.body = body\n",
        "\n",
        "request_url = \"http://example.com/path?name=<script>alert('XSS')</script>\"\n",
        "request_headers = {\"User-Agent\": \"Mozilla/5.0\", \"Referer\": \"<script>evil.com</script>\"}\n",
        "request_body = \"payload=<script>alert('XSS')</script>\"\n",
        "\n",
        "http_request = HttpRequest(request_url, request_headers, request_body)\n",
        "if detect_xss_attack(http_request):\n",
        "    print(\"XSS attack detected\")\n",
        "    print(\"Blocked\")\n",
        "else:\n",
        "    print(\"No XSS attack detected\")\n"
      ],
      "metadata": {
        "colab": {
          "base_uri": "https://localhost:8080/"
        },
        "id": "Yji88TzxzN1r",
        "outputId": "65e88948-e5bb-42a5-a7d8-9f254f957574"
      },
      "execution_count": 4,
      "outputs": [
        {
          "output_type": "stream",
          "name": "stdout",
          "text": [
            "XSS attack detected\n",
            "Blocked\n"
          ]
        }
      ]
    },
    {
      "cell_type": "code",
      "source": [
        "import requests\n",
        "from bs4 import BeautifulSoup\n",
        "\n",
        "def get_all_forms(url):\n",
        "    soup = BeautifulSoup(requests.get(url).content, \"html.parser\")\n",
        "    return soup.find_all(\"form\")\n",
        "\n",
        "def is_vulnerable(response):\n",
        "    errors = [\"you have an error in your sql syntax;\", \"warning: mysql\", \"unclosed quotation mark after the character string\"]\n",
        "    for error in errors:\n",
        "        if error in response.content.decode().lower():\n",
        "            return True\n",
        "    return False\n",
        "\n",
        "def scan_sql_injection(url):\n",
        "    for c in \"\\\"'\":\n",
        "        new_url = f\"{url}{c}\"\n",
        "        response = requests.get(new_url)\n",
        "        if is_vulnerable(response):\n",
        "            print(f\"[+] SQL Injection vulnerability detected, link: {new_url}\")\n",
        "            return\n",
        "\n",
        "if __name__ == \"__main__\":\n",
        "    import sys\n",
        "    if len(sys.argv) != 2:\n",
        "        print(\"Usage: python sql_injection_detector.py <url>\")\n",
        "    else:\n",
        "        url = sys.argv[1]\n",
        "        scan_sql_injection(url)\n"
      ],
      "metadata": {
        "colab": {
          "base_uri": "https://localhost:8080/"
        },
        "id": "YHQJ15j341hF",
        "outputId": "73ee345f-b71a-4adb-9fca-8fcc72a4a7c9"
      },
      "execution_count": 5,
      "outputs": [
        {
          "output_type": "stream",
          "name": "stdout",
          "text": [
            "Usage: python sql_injection_detector.py <url>\n"
          ]
        }
      ]
    }
  ]
}